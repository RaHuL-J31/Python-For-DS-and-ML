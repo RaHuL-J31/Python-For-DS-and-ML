{
  "nbformat": 4,
  "nbformat_minor": 0,
  "metadata": {
    "colab": {
      "name": "PythonTutorial.ipynb",
      "provenance": [],
      "collapsed_sections": [],
      "authorship_tag": "ABX9TyOFR1X3czCTpWU0G+IuyZPi",
      "include_colab_link": true
    },
    "kernelspec": {
      "name": "python3",
      "display_name": "Python 3"
    }
  },
  "cells": [
    {
      "cell_type": "markdown",
      "metadata": {
        "id": "view-in-github",
        "colab_type": "text"
      },
      "source": [
        "<a href=\"https://colab.research.google.com/github/RaHuL-J31/Python-For-DS-and-ML/blob/master/01_PythonTutorial.ipynb\" target=\"_parent\"><img src=\"https://colab.research.google.com/assets/colab-badge.svg\" alt=\"Open In Colab\"/></a>"
      ]
    },
    {
      "cell_type": "markdown",
      "metadata": {
        "id": "nVC6DpTaO60q"
      },
      "source": [
        "# Python Tutorial"
      ]
    },
    {
      "cell_type": "markdown",
      "metadata": {
        "id": "uBAsB7axEjXL"
      },
      "source": [
        "Basic Operations in Python\r\n",
        "ctel + enter to run cell\r\n",
        "alt + enter to run and add cell\r\n",
        "ctrl + alt + t to add text field"
      ]
    },
    {
      "cell_type": "code",
      "metadata": {
        "colab": {
          "base_uri": "https://localhost:8080/"
        },
        "id": "WyMOLuUAO98s",
        "outputId": "dc265bea-71db-4e54-898f-452bf65e3a58"
      },
      "source": [
        "#Print Function\r\n",
        "print ('Hello World')"
      ],
      "execution_count": null,
      "outputs": [
        {
          "output_type": "stream",
          "text": [
            "Hello World\n"
          ],
          "name": "stdout"
        }
      ]
    },
    {
      "cell_type": "code",
      "metadata": {
        "colab": {
          "base_uri": "https://localhost:8080/"
        },
        "id": "GFQWb3AiEsaM",
        "outputId": "f1f21b45-fe35-4515-f62c-a4dd3c207e31"
      },
      "source": [
        "#numbers\r\n",
        "print(1 + 1)\r\n",
        "print(1 * 8)\r\n",
        "print (1 / 2)"
      ],
      "execution_count": null,
      "outputs": [
        {
          "output_type": "stream",
          "text": [
            "2\n",
            "8\n",
            "0.5\n"
          ],
          "name": "stdout"
        }
      ]
    },
    {
      "cell_type": "code",
      "metadata": {
        "colab": {
          "base_uri": "https://localhost:8080/"
        },
        "id": "yMKn2r9LFQ2p",
        "outputId": "7099117d-0f90-4dc4-c206-326d8a64efd5"
      },
      "source": [
        "print(6 % 2)\r\n",
        "print(9 % 2) "
      ],
      "execution_count": null,
      "outputs": [
        {
          "output_type": "stream",
          "text": [
            "0\n",
            "1\n"
          ],
          "name": "stdout"
        }
      ]
    },
    {
      "cell_type": "code",
      "metadata": {
        "colab": {
          "base_uri": "https://localhost:8080/"
        },
        "id": "xAw8p0DYGN3D",
        "outputId": "df421a04-4b61-4802-8d06-00cfcd533ba0"
      },
      "source": [
        "x = 2\r\n",
        "y = 4\r\n",
        "x + y"
      ],
      "execution_count": null,
      "outputs": [
        {
          "output_type": "execute_result",
          "data": {
            "text/plain": [
              "6"
            ]
          },
          "metadata": {
            "tags": []
          },
          "execution_count": 3
        }
      ]
    },
    {
      "cell_type": "code",
      "metadata": {
        "colab": {
          "base_uri": "https://localhost:8080/"
        },
        "id": "NNCUjTSeEwnw",
        "outputId": "eb76abff-2c81-4410-c555-4acfc4d7aa02"
      },
      "source": [
        "type(x)\r\n",
        "type(7.9)"
      ],
      "execution_count": null,
      "outputs": [
        {
          "output_type": "execute_result",
          "data": {
            "text/plain": [
              "float"
            ]
          },
          "metadata": {
            "tags": []
          },
          "execution_count": 5
        }
      ]
    },
    {
      "cell_type": "code",
      "metadata": {
        "id": "2b8wAxaYGqKI"
      },
      "source": [
        "name = \"rahul\"\r\n",
        "age = 23"
      ],
      "execution_count": null,
      "outputs": []
    },
    {
      "cell_type": "code",
      "metadata": {
        "colab": {
          "base_uri": "https://localhost:8080/",
          "height": 35
        },
        "id": "xDpCxbj-G6LL",
        "outputId": "72484e5a-9351-4f37-fdf8-0a0d57314421"
      },
      "source": [
        "name"
      ],
      "execution_count": null,
      "outputs": [
        {
          "output_type": "execute_result",
          "data": {
            "application/vnd.google.colaboratory.intrinsic+json": {
              "type": "string"
            },
            "text/plain": [
              "'rahul'"
            ]
          },
          "metadata": {
            "tags": []
          },
          "execution_count": 7
        }
      ]
    },
    {
      "cell_type": "code",
      "metadata": {
        "colab": {
          "base_uri": "https://localhost:8080/"
        },
        "id": "-Z-sk1rtG8sj",
        "outputId": "2d9a5802-ad43-4d39-8dd8-bfcefec45254"
      },
      "source": [
        "print(name)"
      ],
      "execution_count": null,
      "outputs": [
        {
          "output_type": "stream",
          "text": [
            "rahul\n"
          ],
          "name": "stdout"
        }
      ]
    },
    {
      "cell_type": "code",
      "metadata": {
        "colab": {
          "base_uri": "https://localhost:8080/"
        },
        "id": "KQBkRBdwG-zD",
        "outputId": "048b95a9-09c9-4ebd-9621-d2442427dae9"
      },
      "source": [
        "print ('My name is {} and my age is {}'.format(name,age))\r\n",
        "\r\n",
        "print('My name is {one} and my age is {two} and I can reuse {one} and {two}'.format(one =name,two =age))"
      ],
      "execution_count": null,
      "outputs": [
        {
          "output_type": "stream",
          "text": [
            "My name is rahul and my age is 23\n",
            "My name is rahul and my age is 23 and I can reuse rahul and 23\n"
          ],
          "name": "stdout"
        }
      ]
    },
    {
      "cell_type": "code",
      "metadata": {
        "colab": {
          "base_uri": "https://localhost:8080/"
        },
        "id": "o-hc4n_lGmqi",
        "outputId": "3124c919-1eff-41cd-d7d0-b850f8d037e6"
      },
      "source": [
        "#Slice\r\n",
        "s = \"asdfghjkl\"\r\n",
        "print (s[1:]) #everything except 0\r\n",
        "print (s[:5]) #everything till 4\r\n",
        "print (s[2:6]) #[inclue : exclude]"
      ],
      "execution_count": null,
      "outputs": [
        {
          "output_type": "stream",
          "text": [
            "sdfghjkl\n",
            "asdfg\n",
            "dfgh\n"
          ],
          "name": "stdout"
        }
      ]
    },
    {
      "cell_type": "code",
      "metadata": {
        "colab": {
          "base_uri": "https://localhost:8080/"
        },
        "id": "DzEBvFcPJgue",
        "outputId": "6cd354ae-033a-42ce-cdd5-9830bb847e99"
      },
      "source": [
        "#Lists\r\n",
        "myList = ['a','b','c','d','e']\r\n",
        "print(myList[0])\r\n",
        "print(myList[0:2])\r\n",
        "myList.append('z')\r\n",
        "print(myList)\r\n",
        "myList[0] = 'new'\r\n",
        "print(myList)"
      ],
      "execution_count": null,
      "outputs": [
        {
          "output_type": "stream",
          "text": [
            "a\n",
            "['a', 'b']\n",
            "['a', 'b', 'c', 'd', 'e', 'z']\n",
            "['new', 'b', 'c', 'd', 'e', 'z']\n"
          ],
          "name": "stdout"
        }
      ]
    },
    {
      "cell_type": "code",
      "metadata": {
        "colab": {
          "base_uri": "https://localhost:8080/"
        },
        "id": "EdfucnVJKkIU",
        "outputId": "73e81e0c-2103-4172-8e7a-7633c4d4bd00"
      },
      "source": [
        "#nest of list []\r\n",
        "nest = [1,2,[\"rahul\",'jeevan']]\r\n",
        "print(nest[2][1])\r\n",
        "\r\n",
        "nest1 = [1,2,[\"rahul\",'jeevan',[18,22]]]\r\n",
        "print(nest1[2][2][0])"
      ],
      "execution_count": null,
      "outputs": [
        {
          "output_type": "stream",
          "text": [
            "jeevan\n",
            "18\n"
          ],
          "name": "stdout"
        }
      ]
    },
    {
      "cell_type": "code",
      "metadata": {
        "colab": {
          "base_uri": "https://localhost:8080/"
        },
        "id": "qIThrwXrKwjG",
        "outputId": "3211bfec-3ecc-44c8-d12d-133e907bb35b"
      },
      "source": [
        "#Dictionary\r\n",
        "d = {'key1':'value1','key2':'value2','key3':22}\r\n",
        "\r\n",
        "d2 = {'key1':'value1','key2':'value2','key3':[1,2,3]}\r\n",
        "print(d2['key3'][1])"
      ],
      "execution_count": null,
      "outputs": [
        {
          "output_type": "stream",
          "text": [
            "2\n"
          ],
          "name": "stdout"
        }
      ]
    },
    {
      "cell_type": "code",
      "metadata": {
        "colab": {
          "base_uri": "https://localhost:8080/"
        },
        "id": "udNHq3mirZ3o",
        "outputId": "ca2b51db-4607-4e21-a9f8-4412d1f1b78b"
      },
      "source": [
        "#nested Dictionary {k:v}\r\n",
        "dnest = {'k1':'v1','k2':{'kk1':1,'kk2':2}}\r\n",
        "dnest['k2']['kk2']"
      ],
      "execution_count": null,
      "outputs": [
        {
          "output_type": "execute_result",
          "data": {
            "text/plain": [
              "2"
            ]
          },
          "metadata": {
            "tags": []
          },
          "execution_count": 38
        }
      ]
    },
    {
      "cell_type": "code",
      "metadata": {
        "colab": {
          "base_uri": "https://localhost:8080/"
        },
        "id": "k9qHWABPsfOZ",
        "outputId": "27855221-0a21-4a47-ee30-e295ff8ea5ae"
      },
      "source": [
        "#boolean \r\n",
        "True\r\n",
        "False"
      ],
      "execution_count": null,
      "outputs": [
        {
          "output_type": "execute_result",
          "data": {
            "text/plain": [
              "False"
            ]
          },
          "metadata": {
            "tags": []
          },
          "execution_count": 39
        }
      ]
    },
    {
      "cell_type": "code",
      "metadata": {
        "colab": {
          "base_uri": "https://localhost:8080/"
        },
        "id": "oWzcW2R-smCx",
        "outputId": "bc2401cf-68da-441a-d0e0-3a5d5d016748"
      },
      "source": [
        "#tuple - Non Mutable ()\r\n",
        "t = (1,2,3,1)\r\n",
        "t"
      ],
      "execution_count": null,
      "outputs": [
        {
          "output_type": "execute_result",
          "data": {
            "text/plain": [
              "(1, 2, 3, 1)"
            ]
          },
          "metadata": {
            "tags": []
          },
          "execution_count": 44
        }
      ]
    },
    {
      "cell_type": "code",
      "metadata": {
        "colab": {
          "base_uri": "https://localhost:8080/"
        },
        "id": "he6Q48iOtQj-",
        "outputId": "1cda0055-9a1f-4712-e5dc-fbe392d41d27"
      },
      "source": [
        "#sets - unique element {}\r\n",
        "set([1,2,3,4,4,2,3])\r\n",
        "# will give op as {1, 2, 3, 4}\r\n",
        "\r\n",
        "s = {1,2,3,3}\r\n",
        "print(s)\r\n",
        "\r\n",
        "s.add(2)\r\n",
        "print(s)\r\n"
      ],
      "execution_count": null,
      "outputs": [
        {
          "output_type": "stream",
          "text": [
            "{1, 2, 3}\n",
            "{1, 2, 3}\n"
          ],
          "name": "stdout"
        }
      ]
    },
    {
      "cell_type": "code",
      "metadata": {
        "id": "9sV2yHT8woSM"
      },
      "source": [
        "#Comparission operator\r\n",
        "# > < >= <= == !=\r\n",
        "\r\n",
        "#logic operator\r\n",
        "# amd or "
      ],
      "execution_count": null,
      "outputs": []
    },
    {
      "cell_type": "code",
      "metadata": {
        "colab": {
          "base_uri": "https://localhost:8080/"
        },
        "id": "49rEjk24xWWK",
        "outputId": "c568b3a1-66cd-484f-c86a-eb80536c0974"
      },
      "source": [
        "if True:\r\n",
        "  print ('yes')\r\n",
        "\r\n",
        "if False:\r\n",
        "  print ('yes')\r\n",
        "elif True:\r\n",
        "  print ('nah')\r\n",
        "else:\r\n",
        "  print('no')\r\n",
        "\r\n",
        "if False:\r\n",
        "  print ('yes')\r\n",
        "elif False:\r\n",
        "  print ('nah')\r\n",
        "else:\r\n",
        "  print('no')"
      ],
      "execution_count": null,
      "outputs": [
        {
          "output_type": "stream",
          "text": [
            "yes\n",
            "nah\n",
            "no\n"
          ],
          "name": "stdout"
        }
      ]
    },
    {
      "cell_type": "code",
      "metadata": {
        "colab": {
          "base_uri": "https://localhost:8080/"
        },
        "id": "ieR1rzJVx1Ak",
        "outputId": "f84ab1f8-7365-43f8-997f-8755e498ed47"
      },
      "source": [
        "for i in [1,2,3,4,5]:\r\n",
        "  print (i)"
      ],
      "execution_count": null,
      "outputs": [
        {
          "output_type": "stream",
          "text": [
            "1\n",
            "2\n",
            "3\n",
            "4\n",
            "5\n"
          ],
          "name": "stdout"
        }
      ]
    },
    {
      "cell_type": "code",
      "metadata": {
        "colab": {
          "base_uri": "https://localhost:8080/"
        },
        "id": "-nmnV1f0yQ_A",
        "outputId": "aed14ec0-9984-4038-ce7e-d8aeddddcd65"
      },
      "source": [
        "i = 0\r\n",
        "while i<5:\r\n",
        "  print (i)\r\n",
        "  i = i + 1"
      ],
      "execution_count": null,
      "outputs": [
        {
          "output_type": "stream",
          "text": [
            "0\n",
            "1\n",
            "2\n",
            "3\n",
            "4\n"
          ],
          "name": "stdout"
        }
      ]
    },
    {
      "cell_type": "code",
      "metadata": {
        "colab": {
          "base_uri": "https://localhost:8080/"
        },
        "id": "-jIcVTtGytmm",
        "outputId": "2453e2fd-c308-4932-86ba-3b2c5dcb89cb"
      },
      "source": [
        "x = [1,2,3,4]\r\n",
        "y = []\r\n",
        "for i in x:\r\n",
        "  y.append(i**2)\r\n",
        "print(y)\r\n",
        "\r\n",
        "#above same code can be converted to below using list comprehension\r\n",
        "[i**2 for i in x]\r\n"
      ],
      "execution_count": null,
      "outputs": [
        {
          "output_type": "stream",
          "text": [
            "[1, 4, 9, 16]\n"
          ],
          "name": "stdout"
        },
        {
          "output_type": "execute_result",
          "data": {
            "text/plain": [
              "[1, 4, 9, 16]"
            ]
          },
          "metadata": {
            "tags": []
          },
          "execution_count": 67
        }
      ]
    },
    {
      "cell_type": "code",
      "metadata": {
        "colab": {
          "base_uri": "https://localhost:8080/"
        },
        "id": "Zg6eWstJzhgV",
        "outputId": "f8240efe-f7aa-493f-9d86-ddd51ccb30fa"
      },
      "source": [
        "#Function def\r\n",
        "\r\n",
        "def name(s):\r\n",
        "  print('Hello ' + s)\r\n",
        "name(\"rahul\")\r\n",
        "\r\n",
        "def age(s=18):\r\n",
        "  print(s)\r\n",
        "age()\r\n",
        "age(33)"
      ],
      "execution_count": null,
      "outputs": [
        {
          "output_type": "stream",
          "text": [
            "Hello rahul\n",
            "18\n",
            "33\n"
          ],
          "name": "stdout"
        }
      ]
    },
    {
      "cell_type": "code",
      "metadata": {
        "colab": {
          "base_uri": "https://localhost:8080/"
        },
        "id": "kDKyw4ydz5ee",
        "outputId": "6856a27b-cdaa-4451-f4e4-a1490e0646b2"
      },
      "source": [
        "#map function\r\n",
        "def time2(var):\r\n",
        "  return var*2\r\n",
        "\r\n",
        "a = [1,2,3,4]\r\n",
        "for i in a:\r\n",
        "  print(time2(i))\r\n",
        "\r\n",
        "# you can use same in MAP\r\n",
        "print(list(map(time2,a)))\r\n",
        "\r\n",
        "#using lamda expression\r\n",
        "list(map(lambda var: var*3,a))\r\n"
      ],
      "execution_count": null,
      "outputs": [
        {
          "output_type": "stream",
          "text": [
            "2\n",
            "4\n",
            "6\n",
            "8\n",
            "[2, 4, 6, 8]\n"
          ],
          "name": "stdout"
        },
        {
          "output_type": "execute_result",
          "data": {
            "text/plain": [
              "[3, 6, 9, 12]"
            ]
          },
          "metadata": {
            "tags": []
          },
          "execution_count": 85
        }
      ]
    },
    {
      "cell_type": "code",
      "metadata": {
        "colab": {
          "base_uri": "https://localhost:8080/"
        },
        "id": "8uhxi9U95N2q",
        "outputId": "e3543159-e9bf-4172-d6a5-eb0b8d2ea2e6"
      },
      "source": [
        "#filter function\r\n",
        "lis = [1,2,3,4,5,6,7,8,9]\r\n",
        "list (filter(lambda var : var % 2 == 0,lis))"
      ],
      "execution_count": null,
      "outputs": [
        {
          "output_type": "execute_result",
          "data": {
            "text/plain": [
              "[2, 4, 6, 8]"
            ]
          },
          "metadata": {
            "tags": []
          },
          "execution_count": 89
        }
      ]
    },
    {
      "cell_type": "code",
      "metadata": {
        "colab": {
          "base_uri": "https://localhost:8080/"
        },
        "id": "GuMomaUFhtxY",
        "outputId": "265591a2-3e5b-486a-c6b4-eaf6824bd278"
      },
      "source": [
        "#tuple unpacking\r\n",
        "tup = [(1,2),(3,4),(5,6)]\r\n",
        "for a,b in tup:\r\n",
        "  print(a)"
      ],
      "execution_count": null,
      "outputs": [
        {
          "output_type": "stream",
          "text": [
            "1\n",
            "3\n",
            "5\n"
          ],
          "name": "stdout"
        }
      ]
    },
    {
      "cell_type": "code",
      "metadata": {
        "colab": {
          "base_uri": "https://localhost:8080/"
        },
        "id": "IID3g5eZXzUm",
        "outputId": "881ea247-1d70-4ed9-86e7-d6ce6c1106e4"
      },
      "source": [
        "# List Comprehension\r\n",
        "fh = [z for z in ['rahul','jeevan','Radhika','game'] if z[0] == 'r' or z[0] == 'R']\r\n",
        "print(fh)\r\n",
        "\r\n",
        "newlist = [x for x in range(10)]\r\n",
        "\r\n",
        "newlist1 = [x for x in range(10) if x % 2 == 0]"
      ],
      "execution_count": null,
      "outputs": [
        {
          "output_type": "stream",
          "text": [
            "['rahul', 'Radhika']\n"
          ],
          "name": "stdout"
        }
      ]
    },
    {
      "cell_type": "code",
      "metadata": {
        "colab": {
          "base_uri": "https://localhost:8080/"
        },
        "id": "DGuo37CEdc6q",
        "outputId": "5efd21a5-fa04-4edd-9fa9-298688a7cb26"
      },
      "source": [
        "#EVAL is used to print python statement\r\n",
        "\r\n",
        "ko = 'print(\"hello\")'\r\n",
        "eval(ko)"
      ],
      "execution_count": null,
      "outputs": [
        {
          "output_type": "stream",
          "text": [
            "hello\n"
          ],
          "name": "stdout"
        }
      ]
    },
    {
      "cell_type": "code",
      "metadata": {
        "colab": {
          "base_uri": "https://localhost:8080/"
        },
        "id": "JQXSaaOIeKGA",
        "outputId": "6e8eee5c-9c2d-4a3e-fefa-749ed385194b"
      },
      "source": [
        "myTuple = (\"John\", \"Peter\", \"Vicky\")\r\n",
        "\r\n",
        "x = \"#\".join(myTuple)\r\n",
        "\r\n",
        "print(x)\r\n",
        "\r\n"
      ],
      "execution_count": null,
      "outputs": [
        {
          "output_type": "stream",
          "text": [
            "John#Peter#Vicky\n"
          ],
          "name": "stdout"
        }
      ]
    },
    {
      "cell_type": "code",
      "metadata": {
        "colab": {
          "base_uri": "https://localhost:8080/"
        },
        "id": "ywDYhR6hqxa5",
        "outputId": "a692c595-c9fe-4eee-973d-c90566e23a71"
      },
      "source": [
        "print(hash((1,2)))"
      ],
      "execution_count": null,
      "outputs": [
        {
          "output_type": "stream",
          "text": [
            "3713081631934410656\n"
          ],
          "name": "stdout"
        }
      ]
    },
    {
      "cell_type": "code",
      "metadata": {
        "colab": {
          "base_uri": "https://localhost:8080/",
          "height": 35
        },
        "id": "iRWun2HQswSE",
        "outputId": "3b5402f9-e7ce-4b4e-98ae-9ff797261487"
      },
      "source": [
        "def swap_case(s):\r\n",
        "    st = \"\"\r\n",
        "    for i in range(len(s)):\r\n",
        "        if s[i].islower():\r\n",
        "            st += s[i].upper()\r\n",
        "        else:\r\n",
        "            st += s[i].lower()\r\n",
        "    return st\r\n",
        "swap_case(\"My Name Is RaHuL\")"
      ],
      "execution_count": null,
      "outputs": [
        {
          "output_type": "execute_result",
          "data": {
            "application/vnd.google.colaboratory.intrinsic+json": {
              "type": "string"
            },
            "text/plain": [
              "'mY nAME iS rAhUl'"
            ]
          },
          "metadata": {
            "tags": []
          },
          "execution_count": 14
        }
      ]
    },
    {
      "cell_type": "code",
      "metadata": {
        "colab": {
          "base_uri": "https://localhost:8080/"
        },
        "id": "rMbnKB8euqmN",
        "outputId": "0f961aaf-232e-4218-ab41-14deb5c6738f"
      },
      "source": [
        "str21 = \"abcdef\"\r\n",
        "str22 = list(str21)\r\n",
        "str22[2] = 'z'\r\n",
        "print(''.join(str22))\r\n"
      ],
      "execution_count": null,
      "outputs": [
        {
          "output_type": "stream",
          "text": [
            "abzdef\n"
          ],
          "name": "stdout"
        }
      ]
    },
    {
      "cell_type": "code",
      "metadata": {
        "colab": {
          "base_uri": "https://localhost:8080/"
        },
        "id": "nUcaewyJltBx",
        "outputId": "f0eb6670-40ac-42d7-f428-05114e5b7fae"
      },
      "source": [
        "#Substring \r\n",
        "a= \"jkhabchjkhabc\"\r\n",
        "b = \"abc\"\r\n",
        "for i in range(len(a)):\r\n",
        "  if a[i:].startswith(b):\r\n",
        "    print(\"ll\")"
      ],
      "execution_count": null,
      "outputs": [
        {
          "output_type": "stream",
          "text": [
            "ll\n",
            "ll\n"
          ],
          "name": "stdout"
        }
      ]
    },
    {
      "cell_type": "code",
      "metadata": {
        "colab": {
          "base_uri": "https://localhost:8080/"
        },
        "id": "UQ_pk_nynHy3",
        "outputId": "dbefc144-c425-4742-a49e-81623fcb82c0"
      },
      "source": [
        "#any function\r\n",
        "s = \"a!A\"\r\n",
        "print(any(c.isalnum() for c in s))\r\n",
        "print(any(c.isalpha() for c in s))\r\n",
        "print(any(c.isdigit() for c in s))\r\n",
        "print(any(c.islower() for c in s))\r\n",
        "print(any(c.isupper() for c in s))"
      ],
      "execution_count": null,
      "outputs": [
        {
          "output_type": "stream",
          "text": [
            "True\n",
            "True\n",
            "False\n",
            "True\n",
            "True\n"
          ],
          "name": "stdout"
        }
      ]
    },
    {
      "cell_type": "code",
      "metadata": {
        "colab": {
          "base_uri": "https://localhost:8080/"
        },
        "id": "eIkkacX9vCAe",
        "outputId": "27d1b34f-2452-4c8b-ee51-daad8a2b6cdd"
      },
      "source": [
        " width = 20\r\n",
        " print ('HackerRank'.ljust(width,'-'))\r\n",
        " print ('HackerRank'.center(width,'-'))\r\n",
        " print ('HackerRank'.rjust(width,'-'))"
      ],
      "execution_count": null,
      "outputs": [
        {
          "output_type": "stream",
          "text": [
            "HackerRank----------\n",
            "-----HackerRank-----\n",
            "----------HackerRank\n"
          ],
          "name": "stdout"
        }
      ]
    },
    {
      "cell_type": "code",
      "metadata": {
        "id": "I1yir5o4w5iG"
      },
      "source": [
        ""
      ],
      "execution_count": null,
      "outputs": []
    }
  ]
}